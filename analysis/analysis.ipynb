{
 "cells": [
  {
   "cell_type": "code",
   "execution_count": null,
   "metadata": {},
   "outputs": [],
   "source": [
    "import pandas as pd\n",
    "import datetime\n",
    "import seaborn as sns\n",
    "import matplotlib.pyplot as plt\n",
    "from scipy.stats import norm\n",
    "import numpy as np\n",
    "import os\n",
    "\n",
    "#Gets the path of current directory\n",
    "dir=os.path.realpath('.')\n",
    "#Lists files in current directory, excluding child directories\n",
    "list_files=list(os.walk(dir))[0][2]\n",
    "#Selects final_data csv file name\n",
    "final_data_file_name=[file for file in list_files if 'final_data' in file][0]\n",
    "if len(final_data_file_name)==0:\n",
    "    print('There is not final data file')\n",
    "else:\n",
    "    #Generates dataframe from file\n",
    "    df=pd.read_csv(final_data_file_name)"
   ]
  },
  {
   "attachments": {},
   "cell_type": "markdown",
   "metadata": {},
   "source": [
    "Proportion of null values for each column"
   ]
  },
  {
   "cell_type": "code",
   "execution_count": null,
   "metadata": {},
   "outputs": [],
   "source": [
    "print('df.shape:',df.shape)\n",
    "round(\n",
    "(df.isna().sum()/df.shape[0])\n",
    ".sort_values(ascending=False)\n",
    ",2\n",
    ")"
   ]
  },
  {
   "attachments": {},
   "cell_type": "markdown",
   "metadata": {},
   "source": [
    "Number of properties published by date"
   ]
  },
  {
   "cell_type": "code",
   "execution_count": null,
   "metadata": {},
   "outputs": [],
   "source": [
    "prop_per_date=df['date'].value_counts().sort_index()[1:]\n",
    "week=['Mon','Tue','Wed','Thu','Fri','Sat','Sun']\n",
    "\n",
    "#This eliminates some outliers due to periods when there was no data extraction\n",
    "prop_per_date=prop_per_date[prop_per_date<100]\n",
    "\n",
    "#Creates a dictionary with days of the week instead of dates\n",
    "change_index=(\n",
    "    #Dictionary comprehension to change dates to weekdays \n",
    "    {str(pd.to_datetime(date).date())\n",
    "    :str(week[pd.to_datetime(date).weekday()])+' '+str(pd.to_datetime(date).day)\n",
    " for date in prop_per_date.index}\n",
    ")\n",
    "#Define 'red' for weekend days and 'blue' for weekdays as colorbar\n",
    "bar_colors=['r' if ('Sat' in day or 'Sun' in day) \n",
    "else 'b' for day in change_index.values()]\n",
    "\n",
    "(\n",
    "prop_per_date\n",
    ".rename(index=change_index)\n",
    ".plot(kind='bar',figsize=(15,3),color=bar_colors)\n",
    ")\n",
    "plt.xticks(np.arange(0,len(prop_per_date),10))\n",
    "plt.show()\n",
    "\n"
   ]
  },
  {
   "cell_type": "code",
   "execution_count": null,
   "metadata": {},
   "outputs": [],
   "source": [
    "#Filtering days with high number of properties due to previous missing files\n",
    "prop_per_date[prop_per_date<50].sort_index().rolling(30).mean().plot()\n",
    "plt.xticks(rotation=90)\n",
    "plt.show()"
   ]
  },
  {
   "attachments": {},
   "cell_type": "markdown",
   "metadata": {},
   "source": [
    "Distribution by price"
   ]
  },
  {
   "cell_type": "code",
   "execution_count": null,
   "metadata": {},
   "outputs": [],
   "source": [
    "sns.histplot(data=df,x='price',fill=True,alpha=0.2,kde=True,bins=np.arange(0,5000,200))\n",
    "plt.xticks(np.arange(0,4000,500),rotation=90)\n",
    "plt.show()"
   ]
  },
  {
   "cell_type": "code",
   "execution_count": null,
   "metadata": {},
   "outputs": [],
   "source": [
    "df['price']=pd.to_numeric(df['price'],errors='coerce')"
   ]
  },
  {
   "cell_type": "code",
   "execution_count": null,
   "metadata": {},
   "outputs": [],
   "source": [
    "df.query(f'bedrooms==1 & bathrooms==1')[['price','date']].groupby('date').median().rolling(30).mean().plot()\n",
    "plt.xticks(rotation=90)\n",
    "plt.show()"
   ]
  },
  {
   "attachments": {},
   "cell_type": "markdown",
   "metadata": {},
   "source": [
    "Agents market share by number of properties published"
   ]
  },
  {
   "cell_type": "code",
   "execution_count": null,
   "metadata": {},
   "outputs": [],
   "source": [
    "(\n",
    "    df['agent_name']\n",
    "    .value_counts(sort=True,ascending=False)\n",
    "    .head(20)\n",
    "    .plot(kind='bar')\n",
    ")\n",
    "plt.show()"
   ]
  },
  {
   "attachments": {},
   "cell_type": "markdown",
   "metadata": {},
   "source": [
    "Distribution by number of bedrooms and bathrooms"
   ]
  },
  {
   "cell_type": "code",
   "execution_count": null,
   "metadata": {},
   "outputs": [],
   "source": [
    "fig,ax=plt.subplots(1,2,figsize=(10,2))\n",
    "\n",
    "df_plot={}\n",
    "for num,room in [(0,'bathrooms'),(1,'bedrooms')]:\n",
    "        df_plot[room]=df.query('bathrooms<=2 & bedrooms <=3')[room].value_counts().sort_index()\n",
    "        ax[num].bar(height=df_plot[room].values,x=df_plot[room].index)\n",
    "        ax[num].set_xlabel(f'Number of {room}')\n",
    "        ax[num].set_ylabel('Count')\n",
    "        ax[num].set_xticks(list(range(1,4)))\n",
    "        ax[num].set_yticks(list(range(0,df_plot[room].values.max(),500)))\n",
    "plt.show()"
   ]
  },
  {
   "attachments": {},
   "cell_type": "markdown",
   "metadata": {},
   "source": [
    "Distribution by property type"
   ]
  },
  {
   "cell_type": "code",
   "execution_count": null,
   "metadata": {},
   "outputs": [],
   "source": [
    "prop_type=df['property_type'].value_counts().sort_values(ascending=False)\n",
    "fig,ax=plt.subplots()\n",
    "ax.bar(height=prop_type.values,x=prop_type.index)\n",
    "ax.set_xlabel('property type')\n",
    "ax.set_ylabel('Count')\n",
    "ax.set_xticklabels(prop_type.index,rotation=90)\n",
    "plt.show()"
   ]
  },
  {
   "attachments": {},
   "cell_type": "markdown",
   "metadata": {},
   "source": [
    "Proportion of properties that are not flats"
   ]
  },
  {
   "cell_type": "code",
   "execution_count": null,
   "metadata": {},
   "outputs": [],
   "source": [
    "flats=(df[df['property_type']=='Flat']['property_type'].value_counts().sum()/df.shape[0])\n",
    "print('Percentaje of flats:',round(flats*100,1),'%')"
   ]
  },
  {
   "attachments": {},
   "cell_type": "markdown",
   "metadata": {},
   "source": [
    " Changing values 'Now' and 'Ask Agent' from let_available_date' column (Part of this should be in the cleaning section)"
   ]
  },
  {
   "cell_type": "code",
   "execution_count": null,
   "metadata": {},
   "outputs": [],
   "source": [
    "now_index=df[df['let_available_date']=='Now'].index\n",
    "df.loc[now_index,'let_available_date']=df.loc[now_index,'date']\n",
    "\n",
    "ask_agent_index=df[df['let_available_date']=='Ask agent'].index\n",
    "df.loc[ask_agent_index,'let_available_date']=pd.NA\n",
    "\n",
    "df['let_available_date']=pd.to_datetime(df['let_available_date'],\n",
    "                                        errors='coerce',\n",
    "                                        format='%d/%m/%Y').dt.date\n",
    "\n"
   ]
  },
  {
   "attachments": {},
   "cell_type": "markdown",
   "metadata": {},
   "source": [
    "Converting 'date' columns to datetime (This also should be in the cleaning section)"
   ]
  },
  {
   "cell_type": "code",
   "execution_count": null,
   "metadata": {},
   "outputs": [],
   "source": [
    "df['date']=df['date'].astype('datetime64[ns]').dt.date"
   ]
  },
  {
   "attachments": {},
   "cell_type": "markdown",
   "metadata": {},
   "source": [
    "Distribution of days properties last published in the market"
   ]
  },
  {
   "cell_type": "code",
   "execution_count": null,
   "metadata": {},
   "outputs": [],
   "source": [
    "df['days_on_market'].value_counts().sort_index().plot(kind='bar',figsize=(10,3),xticks=range(0,140,10))"
   ]
  },
  {
   "attachments": {},
   "cell_type": "markdown",
   "metadata": {},
   "source": [
    "Analysis acording if they have min tenancy period"
   ]
  },
  {
   "cell_type": "code",
   "execution_count": null,
   "metadata": {},
   "outputs": [],
   "source": [
    "df['min_tenancy'].value_counts().sort_values(ascending=False)"
   ]
  },
  {
   "attachments": {},
   "cell_type": "markdown",
   "metadata": {},
   "source": [
    "Short term or long term rent"
   ]
  },
  {
   "cell_type": "code",
   "execution_count": null,
   "metadata": {},
   "outputs": [],
   "source": [
    "df['let_type'].value_counts()"
   ]
  },
  {
   "attachments": {},
   "cell_type": "markdown",
   "metadata": {},
   "source": [
    "Furnished or unfurnished property"
   ]
  },
  {
   "cell_type": "code",
   "execution_count": null,
   "metadata": {},
   "outputs": [],
   "source": [
    "round(\n",
    "df['furnish_type'].value_counts()/df.shape[0]*100\n",
    ",2\n",
    ")"
   ]
  },
  {
   "attachments": {},
   "cell_type": "markdown",
   "metadata": {},
   "source": [
    "Bivariant analysis- Prices vs number of bedrooms"
   ]
  },
  {
   "cell_type": "code",
   "execution_count": null,
   "metadata": {},
   "outputs": [],
   "source": [
    "sns.histplot(data=df[(df['bedrooms']<3) & (df['bathrooms']==1)],\n",
    "            x='price',\n",
    "            hue='bedrooms',\n",
    "            palette=['red','green'],\n",
    "            fill=True,\n",
    "            alpha=0.5,\n",
    "            kde=True,\n",
    "            bins=30\n",
    "            )\n",
    "#Plot formatting\n",
    "plt.xlim(0,2500)\n",
    "plt.xticks(list(range(0,2500,200)))\n",
    "plt.title('Properties with 1 bathroom')\n",
    "plt.show()\n",
    "\n",
    "sns.histplot(data=df[(df['bedrooms']==2) & (df['bathrooms']==2)],\n",
    "            x='price',\n",
    "            hue='bedrooms',\n",
    "            fill=True,\n",
    "            palette=['red'],\n",
    "            alpha=0.5,\n",
    "            kde=True,\n",
    "            bins=30,\n",
    "            )\n",
    "plt.xlim(0,2500)\n",
    "plt.title('Properties with 2 bathrooms')\n",
    "plt.show()"
   ]
  },
  {
   "attachments": {},
   "cell_type": "markdown",
   "metadata": {},
   "source": [
    "Bivariant analysis- Prices vs number of bedrooms (outliers excluded)"
   ]
  },
  {
   "cell_type": "code",
   "execution_count": null,
   "metadata": {},
   "outputs": [],
   "source": [
    "room1_q1,room1_q3=df[(df['bedrooms']==1) & (df['bathrooms']==1)]['price'].quantile(q=[0.25,0.75])\n",
    "room2_q1,room2_q3=df[(df['bedrooms']==2) & (df['bathrooms']==1)]['price'].quantile(q=[0.25,0.75])\n",
    "\n",
    "room1_lim_inf=room1_q1-(room1_q3-room1_q1)*1.5\n",
    "room1_lim_sup=room1_q3+(room1_q3-room1_q1)*1.5\n",
    "\n",
    "room2_lim_inf=room2_q1-(room2_q3-room2_q1)*1.5\n",
    "room2_lim_sup=room2_q3+(room2_q3-room2_q1)*1.5\n",
    "\n",
    "data_1_room=df[(df['bedrooms']==1) &\n",
    "                (df['price']>room1_lim_inf) &\n",
    "               (df['price']<=1200) &\n",
    "                (df['bathrooms']==1)]\n",
    "\n",
    "data_2_room=df[(df['bedrooms']==2) &\n",
    "                (df['price']>room2_lim_inf) &\n",
    "                (df['price']<room2_lim_sup) &\n",
    "                (df['bathrooms']==1)]\n",
    "\n",
    "sns.histplot(data=data_1_room,\n",
    "            x='price',\n",
    "            fill=True,\n",
    "            alpha=0.5,\n",
    "            kde=True,\n",
    "            bins=np.arange(400,2000,50),\n",
    "            #stat='probability'\n",
    "            )\n",
    "\n",
    "sns.histplot(data=data_2_room,\n",
    "            x='price',\n",
    "            fill=True,\n",
    "            alpha=0.5,\n",
    "            kde=True,\n",
    "            bins=np.arange(400,2000,50),\n",
    "            #stat='probability'\n",
    "            )\n",
    "\n",
    "plt.legend(['1 bedroom','2 bedrooms'])\n",
    "plt.title('Price distribution for properties with one bathroom. Outliers excluded')\n",
    "plt.show()\n"
   ]
  },
  {
   "cell_type": "code",
   "execution_count": null,
   "metadata": {},
   "outputs": [],
   "source": [
    "sns.catplot(data=df.query('bathrooms==1 &\\\n",
    "                        bedrooms<=2 &\\\n",
    "                        furnish_type in [\"Furnished\", \"Unfurnished\"]'),\n",
    "            y='price',x='furnish_type',col='bedrooms',kind='box')\n",
    "\n",
    "\n"
   ]
  },
  {
   "attachments": {},
   "cell_type": "markdown",
   "metadata": {},
   "source": [
    "Normal disribution fit for properties with one bathroom and one bedroom"
   ]
  },
  {
   "cell_type": "code",
   "execution_count": null,
   "metadata": {},
   "outputs": [],
   "source": [
    "#property prices for 1 bedroom flat adjust to a norrmal distribution for flats below 1200 pcm.\n",
    "#There is the need to find out if properties above 1200pcm are part of this population or they \n",
    "#are part of a different one.\n",
    "sns.kdeplot(data=data_1_room,\n",
    "            x='price',\n",
    "            fill=True,\n",
    "            alpha=0.5,\n",
    "            common_norm=True,\n",
    "            bw_adjust=0.6\n",
    "            )\n",
    "\n",
    "mu,std=norm.fit(data_1_room['price'])\n",
    "\n",
    "x=np.linspace(400,2500)\n",
    "normal_dist=norm.pdf(x,mu,std)\n",
    "plt.plot(x,normal_dist,'r',linewidth=2,linestyle='dashed')\n",
    "plt.show()\n"
   ]
  },
  {
   "attachments": {},
   "cell_type": "markdown",
   "metadata": {},
   "source": [
    "Normal disribution fit for properties with one bathroom and two bedrooms"
   ]
  },
  {
   "cell_type": "code",
   "execution_count": null,
   "metadata": {},
   "outputs": [],
   "source": [
    "sns.kdeplot(data=data_2_room,\n",
    "            x='price',\n",
    "            fill=True,\n",
    "            alpha=0.5,\n",
    "            common_norm=True,\n",
    "            bw_adjust=1\n",
    "            )\n",
    "\n",
    "mu,std=norm.fit(data_2_room['price'])\n",
    "\n",
    "x=np.linspace(400,2500)\n",
    "normal_dist=norm.pdf(x,mu,std)\n",
    "plt.plot(x,normal_dist,'r',linewidth=2,linestyle='dashed')\n",
    "plt.show()"
   ]
  },
  {
   "attachments": {},
   "cell_type": "markdown",
   "metadata": {},
   "source": [
    "Price distribution for each one of the 10 main agents"
   ]
  },
  {
   "cell_type": "code",
   "execution_count": null,
   "metadata": {},
   "outputs": [],
   "source": [
    "main_agents=(df['agent_name']\n",
    "                    .value_counts(sort=True,ascending=False)\n",
    "                    .head(10)\n",
    "                    )\n",
    "main_agents_index=main_agents.index.tolist()\n",
    "                    \n",
    "df_main_agents=df[df['agent_name'].isin(main_agents_index)]\n",
    "\n",
    "sns.boxplot(data=df_main_agents.query('bedrooms<3'),\n",
    "                x='agent_name',\n",
    "                y='price',\n",
    "                hue='bedrooms')\n",
    "#sns.stripplot(data=df_main_agents.query('bedrooms<3'),\n",
    "#                x='agent_name',\n",
    "#                y='price',\n",
    "#                hue='bedrooms',\n",
    "#                dodge=True)\n",
    "\n",
    "plt.xticks(rotation=90)\n",
    "plt.show()"
   ]
  },
  {
   "attachments": {},
   "cell_type": "markdown",
   "metadata": {},
   "source": [
    "Price distribution by furnish type, number of bathrooms and number of bedrooms"
   ]
  },
  {
   "cell_type": "code",
   "execution_count": null,
   "metadata": {},
   "outputs": [],
   "source": [
    "classification=df[(df['bedrooms']<=2) &\n",
    "                (df['bathrooms']<=2) &\n",
    "            (df['furnish_type'].isin(['Furnished','Unfurnished']))\n",
    "]\n",
    "round(\n",
    "classification.groupby(['bathrooms','bedrooms','furnish_type'])['price']\n",
    ".agg(['median','mean','std','count'])\n",
    ",0\n",
    ")\n",
    "sns.displot(data=classification,\n",
    "            x=\"price\",\n",
    "            col=\"bedrooms\",\n",
    "            row=\"bathrooms\",\n",
    "            hue=\"furnish_type\",\n",
    "            height=5,\n",
    "            aspect=1.5\n",
    "            )"
   ]
  },
  {
   "attachments": {},
   "cell_type": "markdown",
   "metadata": {},
   "source": [
    "Analysis days_on_market vs price vs number of bedrooms"
   ]
  },
  {
   "cell_type": "code",
   "execution_count": null,
   "metadata": {},
   "outputs": [],
   "source": [
    "\n",
    "#for i in range(1,5):\n",
    "#    plt.figure(figsize=(7,1))\n",
    "#    plt.ylim(0,60)\n",
    "#    (\n",
    "#    df[df['bedrooms']==i]['days_on_market']\n",
    "#    .value_counts()\n",
    "#    .sort_index()\n",
    "#    .plot(kind='bar')\n",
    "#    )\n",
    "#    \n",
    "#    plt.title('days on the market - {} bedrooms'.format(i))\n",
    "#    plt.show()\n",
    "    \n",
    "data=df.query('bedrooms<=5')\n",
    "plt.figure(figsize=(5,5))\n",
    "sns.boxplot(data=data,y='days_on_market',x='bedrooms')\n",
    "sns.stripplot(data=data,y='days_on_market',x='bedrooms')\n",
    "plt.show()"
   ]
  },
  {
   "attachments": {},
   "cell_type": "markdown",
   "metadata": {},
   "source": [
    "Analysis EPC vs price vs number of bedrooms"
   ]
  },
  {
   "cell_type": "code",
   "execution_count": null,
   "metadata": {},
   "outputs": [],
   "source": [
    "EPC=(\n",
    "df[\n",
    "(df['EPC_rating'].isin(['A','B','C','D','E','F','G']))\n",
    "& \n",
    "(df['bedrooms']<=4)\n",
    "]\n",
    "[['EPC_rating','price','bedrooms']]\n",
    ".sort_index()\n",
    ")\n",
    "\n",
    "\n",
    "#there is no influence of the EPC in the price of the properties\n",
    "sns.stripplot(data=EPC,y='price',x='EPC_rating',hue='bedrooms',dodge=True,alpha=0.25,order=['A','B','C','D','E','F','G'])\n",
    "sns.boxplot(data=EPC,y='price',x='EPC_rating',hue='bedrooms',order=['A','B','C','D','E','F','G'])\n"
   ]
  },
  {
   "cell_type": "code",
   "execution_count": null,
   "metadata": {},
   "outputs": [],
   "source": [
    "council_tax=(\n",
    "df[(df['bathrooms']==1) & (df['bedrooms']<4) ][['council_tax_band','price','bedrooms']]\n",
    ".sort_values('council_tax_band')\n",
    ")\n",
    "\n",
    "\n",
    "#there is no influence of the EPC in the price of the properties\n",
    "sns.stripplot(data=council_tax,y='price',x='council_tax_band',color='red',alpha=0.5,hue='bedrooms',dodge=True)\n",
    "sns.boxplot(data=council_tax,y='price',x='council_tax_band',hue='bedrooms')\n",
    "\n",
    "plt.show()\n"
   ]
  },
  {
   "cell_type": "code",
   "execution_count": null,
   "metadata": {},
   "outputs": [],
   "source": [
    "data=df[\n",
    "(df['bathrooms']==1)\n",
    "& \n",
    "(df['bedrooms']==1)\n",
    "]\n",
    "round(\n",
    "    data.groupby(['bathrooms','bedrooms','postcode_district','council_tax_band','furnish_type'])['price']\n",
    "    .agg(['median','mean','std','count'])\n",
    "    .sort_values('count',ascending=False)\n",
    "    ,0\n",
    ")\n"
   ]
  },
  {
   "cell_type": "code",
   "execution_count": null,
   "metadata": {},
   "outputs": [],
   "source": [
    "data=df[\n",
    "(df['bathrooms']==1)\n",
    "& \n",
    "(df['bedrooms']==1)\n",
    "&\n",
    "(df['postcode_district']=='EH{}'.format(11))\n",
    "# &\n",
    "# (df['council_tax_band']=='B')\n",
    "&\n",
    "(df['furnish_type']=='Furnished')\n",
    "\n",
    "]\n",
    "sns.histplot(data=data,x='price',bins=np.arange(700,1300,25))\n"
   ]
  },
  {
   "cell_type": "code",
   "execution_count": null,
   "metadata": {},
   "outputs": [],
   "source": [
    "(df.groupby('postcode_district')\n",
    "    .count()\n",
    "    ['url']\n",
    "    .sort_values(ascending=False)\n",
    "    .plot(kind='bar',figsize=(5,2))\n",
    ")"
   ]
  },
  {
   "cell_type": "code",
   "execution_count": null,
   "metadata": {},
   "outputs": [],
   "source": [
    "#Trying to find out if there is a time pattern in property\n",
    "# publications based on postcode district\n",
    "for i in range(1,13): \n",
    "    (df.groupby(['postcode_district','date'])\n",
    "    .count()\n",
    "    ['url']\n",
    "    .reset_index()\n",
    "    .rename(columns={'url':'num_properties'})\n",
    "    .query('postcode_district==\"EH{}\"'.format(i))\n",
    "    .set_index('date')\n",
    "    [1:]\n",
    "    .plot(kind='bar',figsize=(12,3),title='EH{}'.format(i))\n",
    "    )"
   ]
  }
 ],
 "metadata": {
  "kernelspec": {
   "display_name": "pandas_venv",
   "language": "python",
   "name": "python3"
  },
  "language_info": {
   "codemirror_mode": {
    "name": "ipython",
    "version": 3
   },
   "file_extension": ".py",
   "mimetype": "text/x-python",
   "name": "python",
   "nbconvert_exporter": "python",
   "pygments_lexer": "ipython3",
   "version": "3.8.10"
  },
  "orig_nbformat": 4,
  "vscode": {
   "interpreter": {
    "hash": "d59d5d2787f04eabb2243b1e4f677b5b823e2c5c62edbe07a84d1a1a1fada4f7"
   }
  }
 },
 "nbformat": 4,
 "nbformat_minor": 2
}
