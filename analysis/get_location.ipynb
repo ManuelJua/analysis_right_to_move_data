{
 "cells": [
  {
   "cell_type": "code",
   "execution_count": null,
   "metadata": {},
   "outputs": [],
   "source": [
    "import numpy as np\n",
    "import pandas as pd\n",
    "import datetime\n",
    "import boto3\n",
    "import os"
   ]
  },
  {
   "cell_type": "code",
   "execution_count": null,
   "metadata": {},
   "outputs": [],
   "source": [
    "#Gets coordinates for the addresses in the dataframe from location.csv\n",
    "#If coordinates are not in such file, it uses AWS Location Service to retrieve them\n",
    "#and the it stores it on the location.csvs file\n",
    "def get_coordinates_from_file(df:pd.DataFrame):\n",
    "\n",
    "    #Retrieves coordinates from location.csv file\n",
    "    try:\n",
    "        location_df=pd.read_csv('location.csv')\n",
    "\n",
    "        non_geolocated_index=list(df[df['latitude'].isna()].index)\n",
    "        for row_index in non_geolocated_index:\n",
    "            #Be mindful that the if statement only works if we use 'value in DataFrame.values'\n",
    "            #Otherwise it will be always false as the in expresion \n",
    "            #takes the index of the dataframe if not specified\n",
    "            if df.loc[row_index,'address'] in location_df['address'].values:\n",
    "                latitude=location_df[location_df['address']==df.loc[row_index,'address']]['latitude'].values[0]\n",
    "                longitude=location_df[location_df['address']==df.loc[row_index,'address']]['longitude'].values[0]\n",
    "                \n",
    "                df.at[row_index,'latitude']=latitude\n",
    "                df.at[row_index,'longitude']=longitude\n",
    "    except:\n",
    "        print('location.csv does not exist')\n",
    "\n",
    "    return df\n",
    "    \n",
    "def get_coordinates_from_aws(df:pd.DataFrame):\n",
    "    #Calls AWS LocationService\n",
    "    location=boto3.client('location')\n",
    "\n",
    "    #Geocodes addresses for rows with latitude value = None\n",
    "    for row in df[df['latitude'].isna()].index[0:100]:\n",
    "        response = location.search_place_index_for_text(\n",
    "            FilterCategories=[\n",
    "                'AddressType',\n",
    "                'StreetType',\n",
    "                'PostalCodeType'\n",
    "            ],\n",
    "            FilterCountries=[\n",
    "                'GBR',\n",
    "            ],\n",
    "            IndexName='rtm-index',\n",
    "            Key=os.getenv('AWS_GEOCODING_KEY'),\n",
    "            Language='en',\n",
    "            Text=df.iloc[row]['address']\n",
    "        )\n",
    "        try:\n",
    "            df.at[row,'latitude']=response['Results'][0]['Place']['Geometry']['Point'][0]\n",
    "            df.at[row,'longitude']=response['Results'][0]['Place']['Geometry']['Point'][1]\n",
    "            print(f\"{df.loc[row,'address']} -- {df.loc[row,'latitude']} -- {df.loc[row,'longitude']}\")\n",
    "        except:\n",
    "            print(f\"Coordinates not found for address {df.iloc[row]['address']} at index {row}\")\n",
    "    return df\n",
    "\n",
    "#Saves coordinates in a .csv file with 'address','latitude' and 'longitude' fields\n",
    "#It should be made more robust to prevent overwriting in case there are\n",
    "#problems retrieving coordinates in previous steps\n",
    "def save_locations_to_file(df):\n",
    "    df[df['latitude'].notna()][['address','latitude','longitude']].to_csv('location.csv',index=False)\n",
    "\n",
    "\n"
   ]
  },
  {
   "cell_type": "code",
   "execution_count": null,
   "metadata": {},
   "outputs": [],
   "source": [
    "#Gets the path of current directory\n",
    "dir=os.path.realpath('.')\n",
    "#Lists files in current directory, excluding child directories\n",
    "list_files=list(os.walk(dir))[0][2]\n",
    "#Selects final_data csv file name\n",
    "final_data_file_name=[file for file in list_files if 'final_data' in file][0]\n",
    "if len(final_data_file_name)==0:\n",
    "    raise Exception('There is not final data file')\n",
    "else:\n",
    "    #Generates dataframe from file\n",
    "    df=pd.read_csv(final_data_file_name)\n",
    "    \n",
    "    #Checks for latitude columns. If it already exists does not set it to None\n",
    "    if 'latitude' not in df.columns:\n",
    "        df['latitude']=np.nan\n",
    "        df['longitude']=np.nan\n",
    "        print('Columns latitude and longitude added to dataframe')\n",
    "    else:\n",
    "        print('Columns latitude and longitude already exist in the dataframe')"
   ]
  },
  {
   "cell_type": "code",
   "execution_count": null,
   "metadata": {},
   "outputs": [],
   "source": [
    "#Gets coordinates for the addresses in the dataframe using AWS Location Service\n",
    "df=get_coordinates_from_file(df)\n",
    "df=get_coordinates_from_aws(df)\n",
    "save_locations_to_file(df)\n",
    "df.to_csv(final_data_file_name,index=False)\n"
   ]
  }
 ],
 "metadata": {
  "kernelspec": {
   "display_name": "venv",
   "language": "python",
   "name": "python3"
  },
  "language_info": {
   "codemirror_mode": {
    "name": "ipython",
    "version": 3
   },
   "file_extension": ".py",
   "mimetype": "text/x-python",
   "name": "python",
   "nbconvert_exporter": "python",
   "pygments_lexer": "ipython3",
   "version": "3.8.10"
  }
 },
 "nbformat": 4,
 "nbformat_minor": 2
}
